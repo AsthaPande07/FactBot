{
  "cells": [
    {
      "cell_type": "markdown",
      "metadata": {
        "id": "view-in-github",
        "colab_type": "text"
      },
      "source": [
        "<a href=\"https://colab.research.google.com/github/AsthaPande07/FactBot/blob/feature%2Fastha/chapters/jupyter_intro.ipynb\" target=\"_parent\"><img src=\"https://colab.research.google.com/assets/colab-badge.svg\" alt=\"Open In Colab\"/></a>"
      ]
    },
    {
      "cell_type": "markdown",
      "metadata": {
        "id": "WzCwnbY17x0O",
        "tags": []
      },
      "source": [
        "# *Think Python* on Jupyter\n",
        "\n",
        "This is an introduction to Jupyter notebooks for people reading the third edition of [*Think Python*](https://greenteapress.com/wp/think-python-3rd-edition) by Allen B. Downey.\n",
        "\n",
        "A Jupyter notebook is a document that contains text, code, and results from running the code.\n",
        "You can read a notebook like a book, but you can also run the code, modify it, and develop new programs.\n",
        "\n",
        "Jupyter notebooks run in a web browser, so you can run them without installing any new software.\n",
        "But they have to connect to a Jupyter server.\n",
        "\n",
        "You can install and run a server yourself, but to get started it is easier to use a service like [Colab](https://colab.research.google.com/), which is operated by Google.\n",
        "\n",
        "[On the starting page for the book](https://allendowney.github.io/ThinkPython) you will find a link for each chapter.\n",
        "If you click on one of these links, it opens a notebook on Colab."
      ]
    },
    {
      "cell_type": "markdown",
      "metadata": {
        "tags": [],
        "id": "O5bHBqZui_CA"
      },
      "source": [
        "If you are reading this notebook on Colab, you should see an orange logo in the upper left that looks like the letters `CO`.\n",
        "\n",
        "If you are not running this notebook on Colab, [you can click here to open it on Colab](https://colab.research.google.com/github/AllenDowney/ThinkPython/blob/v3/chapters/jupyter_intro.ipynb)."
      ]
    },
    {
      "cell_type": "markdown",
      "metadata": {
        "tags": [],
        "id": "3F3G4mODi_CB"
      },
      "source": [
        "## What is a notebook?\n",
        "\n",
        "A Jupyter notebook is made up of cells, where each cell contains either text or code.\n",
        "This cell contains text.\n",
        "\n",
        "The following cell contains code."
      ]
    },
    {
      "cell_type": "code",
      "execution_count": null,
      "metadata": {
        "id": "LvMQlcOLi_CC",
        "outputId": "e10c87b8-b423-42a8-be63-b334bfe5a2d6"
      },
      "outputs": [
        {
          "name": "stdout",
          "output_type": "stream",
          "text": [
            "Hello\n"
          ]
        }
      ],
      "source": [
        "print('Hello')"
      ]
    },
    {
      "cell_type": "markdown",
      "metadata": {
        "tags": [],
        "id": "7Y2pC-hZi_CE"
      },
      "source": [
        "Click on the previous cell to select it.\n",
        "You should see a button on the left with a triangle inside a circle, which is the icon for \"Play\".\n",
        "If you press this button, Jupyter runs the code in the cell and displays the result.\n",
        "\n",
        "When you run code in a notebook for the first time, it might take a few seconds to start.\n",
        "And if it's a notebook you didn't write, you might get a warning message.\n",
        "If you are running a notebook from a source you trust, which I hope includes me, you can press \"Run Anyway\"."
      ]
    },
    {
      "cell_type": "markdown",
      "metadata": {
        "tags": [],
        "id": "cnmTXzS9i_CF"
      },
      "source": [
        "Instead of clicking the \"Play\" button, you can also run the code in a cell by holding down `Shift` and pressing `Enter`.\n",
        "\n",
        "If you are running this notebook on Colab, you should see buttons in the top left that say \"+ Code\" and \"+ Text\".  The first one adds a code cell and the second adds a text cell.\n",
        "If you want to try them out, select this cell by clicking on it, then press the \"+ Text\" button.\n",
        "A new cell should appear below this one."
      ]
    },
    {
      "cell_type": "markdown",
      "metadata": {
        "tags": [],
        "id": "JiLsHEzOi_CF"
      },
      "source": [
        "Add some text to the cell.\n",
        "You can use the buttons to format it, or you can mark up the text using [Markdown](https://www.markdownguide.org/basic-syntax/).\n",
        "When you are done, hold down `Shift` and press `Enter`, which will format the text you just typed and then move to the next cell."
      ]
    },
    {
      "cell_type": "markdown",
      "metadata": {
        "id": "61tgLc6Pi_CG"
      },
      "source": [
        "At any time Jupyter is in one of two modes:\n",
        "\n",
        "* In **command mode**, you can perform operations that affect cells, like adding and removing entire cells.\n",
        "\n",
        "* In **edit mode**, you can edit the contents of a cell.\n",
        "\n",
        "With text cells, it is obvious which mode you are in.\n",
        "In edit mode, the cell is split vertically, with the text you are editing on the left and the formatted text on the right.\n",
        "And you'll see text editing tools across the top.\n",
        "In command mode, you see only the formatted text.\n",
        "\n",
        "With code cells, the difference is more subtle, but if there's a cursor in the cell, you are in edit mode.\n",
        "\n",
        "To go from edit mode to command mode, press `ESC`.\n",
        "To go from command mode to edit mode, press `Enter`."
      ]
    },
    {
      "cell_type": "markdown",
      "metadata": {
        "id": "3OfctKD7i_CG"
      },
      "source": [
        "When you are done working on a notebook, you can close the window, but any changes you made will disappear.\n",
        "If you make any changes you want to keep, open the File menu in the upper left.\n",
        "You'll see several ways you can save the notebook.\n",
        "\n",
        "* If you have a Google account, you can save the notebook in your Drive.\n",
        "\n",
        "* If you have a GitHub account, you can save it on GitHub.\n",
        "\n",
        "* Or if you want to save the notebook on your computer, select \"Download\" and then \"Download .ipynb\" The suffix \".ipynb\" indicates that it is a notebook file, as opposed to \".py\", which indicates a file that contains Python code only."
      ]
    },
    {
      "cell_type": "markdown",
      "metadata": {
        "id": "JLbkR1THi_CH"
      },
      "source": [
        "## Code for *Think Python*\n",
        "\n",
        "At the beginning of each notebook, you'll see a cell with code like this:"
      ]
    },
    {
      "cell_type": "code",
      "execution_count": null,
      "metadata": {
        "id": "uNy3cG8Pi_CH"
      },
      "outputs": [],
      "source": [
        "from os.path import basename, exists\n",
        "\n",
        "def download(url):\n",
        "    filename = basename(url)\n",
        "    if not exists(filename):\n",
        "        from urllib.request import urlretrieve\n",
        "\n",
        "        local, _ = urlretrieve(url, filename)\n",
        "        print(\"Downloaded \" + str(local))\n",
        "    return filename\n",
        "\n",
        "download('https://raw.githubusercontent.com/AllenDowney/ThinkPython/v3/thinkpython.py')\n",
        "\n",
        "import thinkpython"
      ]
    },
    {
      "cell_type": "markdown",
      "metadata": {
        "id": "Ygs5JfDAi_CH"
      },
      "source": [
        "You don't need to know how this code works, but when you get to the end of the book, most of it will make sense.\n",
        "As you might guess, it downloads a file -- specifically, it downloads `thinkpython.py`, which contains Python code provided specifically for this book.\n",
        "The last line \"imports\" this code, which means we can use the code in the notebook.\n",
        "\n",
        "In other chapters, you will see code that downloads `diagram.py`, which is used to generated the diagrams in the book, and `jupyturtle.py`, which is used in several chapters to create turtle graphics.\n",
        "\n",
        "In some places you will see a cell like this that begins with `%%expect`."
      ]
    },
    {
      "cell_type": "code",
      "execution_count": null,
      "metadata": {
        "id": "0Vlm6NvYi_CI",
        "outputId": "2301bfc4-1fdd-4477-8a77-0cebb7fdc46b"
      },
      "outputs": [
        {
          "ename": "SyntaxError",
          "evalue": "invalid syntax (3827346253.py, line 1)",
          "output_type": "error",
          "traceback": [
            "\u001b[0;36m  Cell \u001b[0;32mIn[3], line 1\u001b[0;36m\u001b[0m\n\u001b[0;31m    abs 42\u001b[0m\n\u001b[0m        ^\u001b[0m\n\u001b[0;31mSyntaxError\u001b[0m\u001b[0;31m:\u001b[0m invalid syntax\n"
          ]
        }
      ],
      "source": [
        "%%expect SyntaxError\n",
        "\n",
        "abs 42"
      ]
    },
    {
      "cell_type": "markdown",
      "metadata": {
        "id": "zNqRM_P6i_CI"
      },
      "source": [
        "`%%expect` is not part of Python -- it is a Jupyter \"magic command\" that indicates that we expect the cell to product an error.\n",
        "When you see this command, it means that the error is deliberate, usually intended to warn you about a common pitfall."
      ]
    },
    {
      "cell_type": "markdown",
      "metadata": {
        "id": "6yi-63R_i_CI"
      },
      "source": [
        "For more about running Jupyter notebooks on Colab, [click here](https://colab.research.google.com/notebooks/basic_features_overview.ipynb).\n",
        "\n",
        "Or, if you are ready to get started, [click here to read Chapter 1](https://colab.research.google.com/github/AllenDowney/ThinkPython/blob/v3/chapters/chap01.ipynb)."
      ]
    },
    {
      "cell_type": "markdown",
      "metadata": {
        "id": "M9yF11G47x0l",
        "tags": []
      },
      "source": [
        "*Think Python*, 3rd edition.\n",
        "\n",
        "Copyright 2023 [Allen B. Downey](https://allendowney.com)\n",
        "\n",
        "License: [Creative Commons Attribution-NonCommercial-ShareAlike 4.0 International](https://creativecommons.org/licenses/by-nc-sa/4.0/)"
      ]
    },
    {
      "cell_type": "code",
      "metadata": {
        "colab": {
          "base_uri": "https://localhost:8080/",
          "height": 90
        },
        "id": "1df9d9ea",
        "outputId": "b8f723c0-472e-42e5-f19f-65b0ecab3fb8"
      },
      "source": [
        "from google.colab import files\n",
        "uploaded = files.upload()"
      ],
      "execution_count": 4,
      "outputs": [
        {
          "output_type": "display_data",
          "data": {
            "text/plain": [
              "<IPython.core.display.HTML object>"
            ],
            "text/html": [
              "\n",
              "     <input type=\"file\" id=\"files-50329cbf-dcda-4bea-ab50-82dcca9b876a\" name=\"files[]\" multiple disabled\n",
              "        style=\"border:none\" />\n",
              "     <output id=\"result-50329cbf-dcda-4bea-ab50-82dcca9b876a\">\n",
              "      Upload widget is only available when the cell has been executed in the\n",
              "      current browser session. Please rerun this cell to enable.\n",
              "      </output>\n",
              "      <script>// Copyright 2017 Google LLC\n",
              "//\n",
              "// Licensed under the Apache License, Version 2.0 (the \"License\");\n",
              "// you may not use this file except in compliance with the License.\n",
              "// You may obtain a copy of the License at\n",
              "//\n",
              "//      http://www.apache.org/licenses/LICENSE-2.0\n",
              "//\n",
              "// Unless required by applicable law or agreed to in writing, software\n",
              "// distributed under the License is distributed on an \"AS IS\" BASIS,\n",
              "// WITHOUT WARRANTIES OR CONDITIONS OF ANY KIND, either express or implied.\n",
              "// See the License for the specific language governing permissions and\n",
              "// limitations under the License.\n",
              "\n",
              "/**\n",
              " * @fileoverview Helpers for google.colab Python module.\n",
              " */\n",
              "(function(scope) {\n",
              "function span(text, styleAttributes = {}) {\n",
              "  const element = document.createElement('span');\n",
              "  element.textContent = text;\n",
              "  for (const key of Object.keys(styleAttributes)) {\n",
              "    element.style[key] = styleAttributes[key];\n",
              "  }\n",
              "  return element;\n",
              "}\n",
              "\n",
              "// Max number of bytes which will be uploaded at a time.\n",
              "const MAX_PAYLOAD_SIZE = 100 * 1024;\n",
              "\n",
              "function _uploadFiles(inputId, outputId) {\n",
              "  const steps = uploadFilesStep(inputId, outputId);\n",
              "  const outputElement = document.getElementById(outputId);\n",
              "  // Cache steps on the outputElement to make it available for the next call\n",
              "  // to uploadFilesContinue from Python.\n",
              "  outputElement.steps = steps;\n",
              "\n",
              "  return _uploadFilesContinue(outputId);\n",
              "}\n",
              "\n",
              "// This is roughly an async generator (not supported in the browser yet),\n",
              "// where there are multiple asynchronous steps and the Python side is going\n",
              "// to poll for completion of each step.\n",
              "// This uses a Promise to block the python side on completion of each step,\n",
              "// then passes the result of the previous step as the input to the next step.\n",
              "function _uploadFilesContinue(outputId) {\n",
              "  const outputElement = document.getElementById(outputId);\n",
              "  const steps = outputElement.steps;\n",
              "\n",
              "  const next = steps.next(outputElement.lastPromiseValue);\n",
              "  return Promise.resolve(next.value.promise).then((value) => {\n",
              "    // Cache the last promise value to make it available to the next\n",
              "    // step of the generator.\n",
              "    outputElement.lastPromiseValue = value;\n",
              "    return next.value.response;\n",
              "  });\n",
              "}\n",
              "\n",
              "/**\n",
              " * Generator function which is called between each async step of the upload\n",
              " * process.\n",
              " * @param {string} inputId Element ID of the input file picker element.\n",
              " * @param {string} outputId Element ID of the output display.\n",
              " * @return {!Iterable<!Object>} Iterable of next steps.\n",
              " */\n",
              "function* uploadFilesStep(inputId, outputId) {\n",
              "  const inputElement = document.getElementById(inputId);\n",
              "  inputElement.disabled = false;\n",
              "\n",
              "  const outputElement = document.getElementById(outputId);\n",
              "  outputElement.innerHTML = '';\n",
              "\n",
              "  const pickedPromise = new Promise((resolve) => {\n",
              "    inputElement.addEventListener('change', (e) => {\n",
              "      resolve(e.target.files);\n",
              "    });\n",
              "  });\n",
              "\n",
              "  const cancel = document.createElement('button');\n",
              "  inputElement.parentElement.appendChild(cancel);\n",
              "  cancel.textContent = 'Cancel upload';\n",
              "  const cancelPromise = new Promise((resolve) => {\n",
              "    cancel.onclick = () => {\n",
              "      resolve(null);\n",
              "    };\n",
              "  });\n",
              "\n",
              "  // Wait for the user to pick the files.\n",
              "  const files = yield {\n",
              "    promise: Promise.race([pickedPromise, cancelPromise]),\n",
              "    response: {\n",
              "      action: 'starting',\n",
              "    }\n",
              "  };\n",
              "\n",
              "  cancel.remove();\n",
              "\n",
              "  // Disable the input element since further picks are not allowed.\n",
              "  inputElement.disabled = true;\n",
              "\n",
              "  if (!files) {\n",
              "    return {\n",
              "      response: {\n",
              "        action: 'complete',\n",
              "      }\n",
              "    };\n",
              "  }\n",
              "\n",
              "  for (const file of files) {\n",
              "    const li = document.createElement('li');\n",
              "    li.append(span(file.name, {fontWeight: 'bold'}));\n",
              "    li.append(span(\n",
              "        `(${file.type || 'n/a'}) - ${file.size} bytes, ` +\n",
              "        `last modified: ${\n",
              "            file.lastModifiedDate ? file.lastModifiedDate.toLocaleDateString() :\n",
              "                                    'n/a'} - `));\n",
              "    const percent = span('0% done');\n",
              "    li.appendChild(percent);\n",
              "\n",
              "    outputElement.appendChild(li);\n",
              "\n",
              "    const fileDataPromise = new Promise((resolve) => {\n",
              "      const reader = new FileReader();\n",
              "      reader.onload = (e) => {\n",
              "        resolve(e.target.result);\n",
              "      };\n",
              "      reader.readAsArrayBuffer(file);\n",
              "    });\n",
              "    // Wait for the data to be ready.\n",
              "    let fileData = yield {\n",
              "      promise: fileDataPromise,\n",
              "      response: {\n",
              "        action: 'continue',\n",
              "      }\n",
              "    };\n",
              "\n",
              "    // Use a chunked sending to avoid message size limits. See b/62115660.\n",
              "    let position = 0;\n",
              "    do {\n",
              "      const length = Math.min(fileData.byteLength - position, MAX_PAYLOAD_SIZE);\n",
              "      const chunk = new Uint8Array(fileData, position, length);\n",
              "      position += length;\n",
              "\n",
              "      const base64 = btoa(String.fromCharCode.apply(null, chunk));\n",
              "      yield {\n",
              "        response: {\n",
              "          action: 'append',\n",
              "          file: file.name,\n",
              "          data: base64,\n",
              "        },\n",
              "      };\n",
              "\n",
              "      let percentDone = fileData.byteLength === 0 ?\n",
              "          100 :\n",
              "          Math.round((position / fileData.byteLength) * 100);\n",
              "      percent.textContent = `${percentDone}% done`;\n",
              "\n",
              "    } while (position < fileData.byteLength);\n",
              "  }\n",
              "\n",
              "  // All done.\n",
              "  yield {\n",
              "    response: {\n",
              "      action: 'complete',\n",
              "    }\n",
              "  };\n",
              "}\n",
              "\n",
              "scope.google = scope.google || {};\n",
              "scope.google.colab = scope.google.colab || {};\n",
              "scope.google.colab._files = {\n",
              "  _uploadFiles,\n",
              "  _uploadFilesContinue,\n",
              "};\n",
              "})(self);\n",
              "</script> "
            ]
          },
          "metadata": {}
        },
        {
          "output_type": "stream",
          "name": "stdout",
          "text": [
            "Saving bharatfakenewskosh (3).xlsx to bharatfakenewskosh (3).xlsx\n"
          ]
        }
      ]
    },
    {
      "cell_type": "markdown",
      "metadata": {
        "id": "5410a248"
      },
      "source": [
        "Once the file is uploaded, you can read it using the following corrected code. Make sure to replace `\"your_uploaded_file.xlsx\"` with the actual name of the file you uploaded. Also, I've removed the `sheet_name=A` as it was causing a `SyntaxError` because `A` was not defined. If you need to specify a sheet name, it should be a string, like `sheet_name='A'`."
      ]
    },
    {
      "cell_type": "code",
      "source": [
        "import pandas as pd\n",
        "\n",
        "# Load Excel or CSV\n",
        "df = pd.read_excel(\"bharatfakenewskosh (3).xlsx\", sheet_name=0)  # or pd.read_csv(\"...\")\n",
        "print(df.head())\n",
        "print(df['label'].value_counts())\n"
      ],
      "metadata": {
        "id": "TbAVjP8NmKjb",
        "outputId": "f37f1545-3271-4beb-e766-dec8759627da",
        "colab": {
          "base_uri": "https://localhost:8080/",
          "height": 1000
        }
      },
      "execution_count": 11,
      "outputs": [
        {
          "output_type": "stream",
          "name": "stdout",
          "text": [
            "       id         Author_Name Fact_Check_Source Source_Type  \\\n",
            "0  BFNK_1  Shinjinee Majumder          Alt News        IFCN   \n",
            "1  BFNK_2         Kalim Ahmed          Alt News        IFCN   \n",
            "2  BFNK_3      Abhishek Kumar          Alt News        IFCN   \n",
            "3  BFNK_4      Abhishek Kumar          Alt News        IFCN   \n",
            "4  BFNK_5              Kinjal          Alt News        IFCN   \n",
            "\n",
            "                                           Statement  \\\n",
            "0  फ़ैक्ट-चेक: तेलंगाना में एक रिपोर्टर ने गृह मंत...   \n",
            "1  PM मोदी को UAE का सर्वोच्च नागरिक सम्मान मिलने...   \n",
            "2  वायरल तस्वीर में सुप्रीम कोर्ट के जज सूर्यकांत...   \n",
            "3  मीडिया ने दी ग़लत ख़बर: कटनी में मुस्लिम सरपंच क...   \n",
            "4  महिला ने राहुल गांधी को कश्मीर मुद्दे पर मोदी ...   \n",
            "\n",
            "                                 Eng_Trans_Statement  \\\n",
            "0  Fact-check: A reporter in Telangana stopped sp...   \n",
            "1  Share by stating the old video of PM Modi's hi...   \n",
            "2  Supreme Court judges Suryakant and JB Pardiwal...   \n",
            "3  Media gave wrong news: After the victory of Mu...   \n",
            "4  The woman lashed out at Rahul Gandhi to oppose...   \n",
            "\n",
            "                                           News Body  \\\n",
            "0  सोशल मीडिया पर एक वीडियो वायरल है जिसमें एक पत...   \n",
            "1  प्रधानमंत्री नरेंद्र मोदी को सोने की चेन से सम...   \n",
            "2  बीते दिनों नूपुर शर्मा ने टीवी डिबेट में पैगम्...   \n",
            "3  एक वीडियो सोशल मीडिया पर वायरल है. इसे शेयर कर...   \n",
            "4  सोशल मीडिया पर राहुल गांधी का एक वीडियो वायरल ...   \n",
            "\n",
            "                                 Eng_Trans_News_Body  \\\n",
            "0  A video is viral on social media in which a jo...   \n",
            "1  A video of Prime Minister Narendra Modi being ...   \n",
            "2  Recently, Nupur Sharma made an objectionable c...   \n",
            "3  A video is viral on social media. While sharin...   \n",
            "4  A video of Rahul Gandhi has gone viral on soci...   \n",
            "\n",
            "                                          Media_Link   Publish_Date  \\\n",
            "0  https://i0.wp.com/www.altnews.in/Hindi/wp-cont...  9th July 2022   \n",
            "1  https://i0.wp.com/www.altnews.in/Hindi/wp-cont...  9th July 2022   \n",
            "2  https://i0.wp.com/www.altnews.in/Hindi/wp-cont...  7th July 2022   \n",
            "3  https://i0.wp.com/www.altnews.in/Hindi/wp-cont...  5th July 2022   \n",
            "4  https://i0.wp.com/www.altnews.in/Hindi/wp-cont...  4th July 2022   \n",
            "\n",
            "                                     Fact_Check_Link News_Category Language  \\\n",
            "0  https://www.altnews.in/Hindi/fact-check-was-am...      Politics    Hindi   \n",
            "1  https://www.altnews.in/Hindi/old-video-of-pm-m...      Politics    Hindi   \n",
            "2  https://www.altnews.in/Hindi/false-claim-with-...      Politics    Hindi   \n",
            "3  https://www.altnews.in/Hindi/media-misreport-p...      Politics    Hindi   \n",
            "4  https://www.altnews.in/Hindi/2019-video-of-wom...      Politics    Hindi   \n",
            "\n",
            "           Region Platform Text Video Image  Label  \n",
            "0       Telangana  Twitter   no   yes    no  False  \n",
            "1        National  Twitter   no   yes    no  False  \n",
            "2        National  Twitter   no    no   yes  False  \n",
            "3  Madhya Pradesh  Twitter   no    no   yes  False  \n",
            "4         Kashmir  Twitter   no   yes    no   True  \n"
          ]
        },
        {
          "output_type": "error",
          "ename": "KeyError",
          "evalue": "'label'",
          "traceback": [
            "\u001b[0;31m---------------------------------------------------------------------------\u001b[0m",
            "\u001b[0;31mKeyError\u001b[0m                                  Traceback (most recent call last)",
            "\u001b[0;32m/usr/local/lib/python3.12/dist-packages/pandas/core/indexes/base.py\u001b[0m in \u001b[0;36mget_loc\u001b[0;34m(self, key)\u001b[0m\n\u001b[1;32m   3804\u001b[0m         \u001b[0;32mtry\u001b[0m\u001b[0;34m:\u001b[0m\u001b[0;34m\u001b[0m\u001b[0;34m\u001b[0m\u001b[0m\n\u001b[0;32m-> 3805\u001b[0;31m             \u001b[0;32mreturn\u001b[0m \u001b[0mself\u001b[0m\u001b[0;34m.\u001b[0m\u001b[0m_engine\u001b[0m\u001b[0;34m.\u001b[0m\u001b[0mget_loc\u001b[0m\u001b[0;34m(\u001b[0m\u001b[0mcasted_key\u001b[0m\u001b[0;34m)\u001b[0m\u001b[0;34m\u001b[0m\u001b[0;34m\u001b[0m\u001b[0m\n\u001b[0m\u001b[1;32m   3806\u001b[0m         \u001b[0;32mexcept\u001b[0m \u001b[0mKeyError\u001b[0m \u001b[0;32mas\u001b[0m \u001b[0merr\u001b[0m\u001b[0;34m:\u001b[0m\u001b[0;34m\u001b[0m\u001b[0;34m\u001b[0m\u001b[0m\n",
            "\u001b[0;32mindex.pyx\u001b[0m in \u001b[0;36mpandas._libs.index.IndexEngine.get_loc\u001b[0;34m()\u001b[0m\n",
            "\u001b[0;32mindex.pyx\u001b[0m in \u001b[0;36mpandas._libs.index.IndexEngine.get_loc\u001b[0;34m()\u001b[0m\n",
            "\u001b[0;32mpandas/_libs/hashtable_class_helper.pxi\u001b[0m in \u001b[0;36mpandas._libs.hashtable.PyObjectHashTable.get_item\u001b[0;34m()\u001b[0m\n",
            "\u001b[0;32mpandas/_libs/hashtable_class_helper.pxi\u001b[0m in \u001b[0;36mpandas._libs.hashtable.PyObjectHashTable.get_item\u001b[0;34m()\u001b[0m\n",
            "\u001b[0;31mKeyError\u001b[0m: 'label'",
            "\nThe above exception was the direct cause of the following exception:\n",
            "\u001b[0;31mKeyError\u001b[0m                                  Traceback (most recent call last)",
            "\u001b[0;32m/tmp/ipython-input-328079928.py\u001b[0m in \u001b[0;36m<cell line: 0>\u001b[0;34m()\u001b[0m\n\u001b[1;32m      4\u001b[0m \u001b[0mdf\u001b[0m \u001b[0;34m=\u001b[0m \u001b[0mpd\u001b[0m\u001b[0;34m.\u001b[0m\u001b[0mread_excel\u001b[0m\u001b[0;34m(\u001b[0m\u001b[0;34m\"bharatfakenewskosh (3).xlsx\"\u001b[0m\u001b[0;34m,\u001b[0m \u001b[0msheet_name\u001b[0m\u001b[0;34m=\u001b[0m\u001b[0;36m0\u001b[0m\u001b[0;34m)\u001b[0m  \u001b[0;31m# or pd.read_csv(\"...\")\u001b[0m\u001b[0;34m\u001b[0m\u001b[0;34m\u001b[0m\u001b[0m\n\u001b[1;32m      5\u001b[0m \u001b[0mprint\u001b[0m\u001b[0;34m(\u001b[0m\u001b[0mdf\u001b[0m\u001b[0;34m.\u001b[0m\u001b[0mhead\u001b[0m\u001b[0;34m(\u001b[0m\u001b[0;34m)\u001b[0m\u001b[0;34m)\u001b[0m\u001b[0;34m\u001b[0m\u001b[0;34m\u001b[0m\u001b[0m\n\u001b[0;32m----> 6\u001b[0;31m \u001b[0mprint\u001b[0m\u001b[0;34m(\u001b[0m\u001b[0mdf\u001b[0m\u001b[0;34m[\u001b[0m\u001b[0;34m'label'\u001b[0m\u001b[0;34m]\u001b[0m\u001b[0;34m.\u001b[0m\u001b[0mvalue_counts\u001b[0m\u001b[0;34m(\u001b[0m\u001b[0;34m)\u001b[0m\u001b[0;34m)\u001b[0m\u001b[0;34m\u001b[0m\u001b[0;34m\u001b[0m\u001b[0m\n\u001b[0m",
            "\u001b[0;32m/usr/local/lib/python3.12/dist-packages/pandas/core/frame.py\u001b[0m in \u001b[0;36m__getitem__\u001b[0;34m(self, key)\u001b[0m\n\u001b[1;32m   4100\u001b[0m             \u001b[0;32mif\u001b[0m \u001b[0mself\u001b[0m\u001b[0;34m.\u001b[0m\u001b[0mcolumns\u001b[0m\u001b[0;34m.\u001b[0m\u001b[0mnlevels\u001b[0m \u001b[0;34m>\u001b[0m \u001b[0;36m1\u001b[0m\u001b[0;34m:\u001b[0m\u001b[0;34m\u001b[0m\u001b[0;34m\u001b[0m\u001b[0m\n\u001b[1;32m   4101\u001b[0m                 \u001b[0;32mreturn\u001b[0m \u001b[0mself\u001b[0m\u001b[0;34m.\u001b[0m\u001b[0m_getitem_multilevel\u001b[0m\u001b[0;34m(\u001b[0m\u001b[0mkey\u001b[0m\u001b[0;34m)\u001b[0m\u001b[0;34m\u001b[0m\u001b[0;34m\u001b[0m\u001b[0m\n\u001b[0;32m-> 4102\u001b[0;31m             \u001b[0mindexer\u001b[0m \u001b[0;34m=\u001b[0m \u001b[0mself\u001b[0m\u001b[0;34m.\u001b[0m\u001b[0mcolumns\u001b[0m\u001b[0;34m.\u001b[0m\u001b[0mget_loc\u001b[0m\u001b[0;34m(\u001b[0m\u001b[0mkey\u001b[0m\u001b[0;34m)\u001b[0m\u001b[0;34m\u001b[0m\u001b[0;34m\u001b[0m\u001b[0m\n\u001b[0m\u001b[1;32m   4103\u001b[0m             \u001b[0;32mif\u001b[0m \u001b[0mis_integer\u001b[0m\u001b[0;34m(\u001b[0m\u001b[0mindexer\u001b[0m\u001b[0;34m)\u001b[0m\u001b[0;34m:\u001b[0m\u001b[0;34m\u001b[0m\u001b[0;34m\u001b[0m\u001b[0m\n\u001b[1;32m   4104\u001b[0m                 \u001b[0mindexer\u001b[0m \u001b[0;34m=\u001b[0m \u001b[0;34m[\u001b[0m\u001b[0mindexer\u001b[0m\u001b[0;34m]\u001b[0m\u001b[0;34m\u001b[0m\u001b[0;34m\u001b[0m\u001b[0m\n",
            "\u001b[0;32m/usr/local/lib/python3.12/dist-packages/pandas/core/indexes/base.py\u001b[0m in \u001b[0;36mget_loc\u001b[0;34m(self, key)\u001b[0m\n\u001b[1;32m   3810\u001b[0m             ):\n\u001b[1;32m   3811\u001b[0m                 \u001b[0;32mraise\u001b[0m \u001b[0mInvalidIndexError\u001b[0m\u001b[0;34m(\u001b[0m\u001b[0mkey\u001b[0m\u001b[0;34m)\u001b[0m\u001b[0;34m\u001b[0m\u001b[0;34m\u001b[0m\u001b[0m\n\u001b[0;32m-> 3812\u001b[0;31m             \u001b[0;32mraise\u001b[0m \u001b[0mKeyError\u001b[0m\u001b[0;34m(\u001b[0m\u001b[0mkey\u001b[0m\u001b[0;34m)\u001b[0m \u001b[0;32mfrom\u001b[0m \u001b[0merr\u001b[0m\u001b[0;34m\u001b[0m\u001b[0;34m\u001b[0m\u001b[0m\n\u001b[0m\u001b[1;32m   3813\u001b[0m         \u001b[0;32mexcept\u001b[0m \u001b[0mTypeError\u001b[0m\u001b[0;34m:\u001b[0m\u001b[0;34m\u001b[0m\u001b[0;34m\u001b[0m\u001b[0m\n\u001b[1;32m   3814\u001b[0m             \u001b[0;31m# If we have a listlike key, _check_indexing_error will raise\u001b[0m\u001b[0;34m\u001b[0m\u001b[0;34m\u001b[0m\u001b[0m\n",
            "\u001b[0;31mKeyError\u001b[0m: 'label'"
          ]
        }
      ]
    },
    {
      "cell_type": "code",
      "source": [
        "import pandas as pd\n",
        "import re\n",
        "\n",
        "# Load dataset (replace with your path)\n",
        "df = pd.read_excel(\"bharatfakenewskosh (3).xlsx\", sheet_name=0)\n",
        "\n",
        "# Check available columns\n",
        "print(df.columns)\n",
        "\n",
        "# Normalize the label column\n",
        "df['Label'] = df['Label'].astype(str).str.strip().str.lower()\n",
        "df['Label'] = df['Label'].map({'false': 1, 'true': 0})  # 1=Fake, 0=Real\n",
        "\n",
        "# Drop rows with missing label\n",
        "df = df.dropna(subset=['Label'])\n"
      ],
      "metadata": {
        "id": "cujuJ8Brmkew",
        "outputId": "babee55c-94a9-465d-dbf7-d21763c9561a",
        "colab": {
          "base_uri": "https://localhost:8080/"
        }
      },
      "execution_count": 12,
      "outputs": [
        {
          "output_type": "stream",
          "name": "stdout",
          "text": [
            "Index(['id', 'Author_Name', 'Fact_Check_Source', 'Source_Type', 'Statement',\n",
            "       'Eng_Trans_Statement', 'News Body', 'Eng_Trans_News_Body', 'Media_Link',\n",
            "       'Publish_Date', 'Fact_Check_Link', 'News_Category', 'Language',\n",
            "       'Region', 'Platform', 'Text', 'Video', 'Image', 'Label'],\n",
            "      dtype='object')\n"
          ]
        }
      ]
    },
    {
      "cell_type": "code",
      "source": [
        "def clean_text(text):\n",
        "    if pd.isnull(text):\n",
        "        return \"\"\n",
        "    text = text.lower()\n",
        "    text = re.sub(r\"http\\S+|www\\S+|https\\S+\", \"\", text)  # remove links\n",
        "    text = re.sub(r\"[^a-zA-Z\\u0900-\\u097F\\s]\", \"\", text)  # keep English + Indic chars\n",
        "    text = re.sub(r\"\\s+\", \" \", text).strip()\n",
        "    return text\n",
        "\n",
        "df['clean_text'] = df['Eng_Trans_Statement'].apply(clean_text)\n"
      ],
      "metadata": {
        "id": "bBR6yB4mmx04"
      },
      "execution_count": 15,
      "outputs": []
    },
    {
      "cell_type": "code",
      "source": [
        "df[['clean_text', 'Label', 'Language', 'Region']].to_csv(\"bfk_cleaned.csv\", index=False)\n",
        "print(\"✅ Cleaned dataset saved as bfk_cleaned.csv\")\n"
      ],
      "metadata": {
        "id": "1zFFAFBgnERA",
        "outputId": "110ebf4c-1185-4f95-cba3-b9fa4c936f04",
        "colab": {
          "base_uri": "https://localhost:8080/"
        }
      },
      "execution_count": 16,
      "outputs": [
        {
          "output_type": "stream",
          "name": "stdout",
          "text": [
            "✅ Cleaned dataset saved as bfk_cleaned.csv\n"
          ]
        }
      ]
    }
  ],
  "metadata": {
    "celltoolbar": "Tags",
    "colab": {
      "provenance": [],
      "toc_visible": true,
      "include_colab_link": true
    },
    "kernelspec": {
      "display_name": "Python 3 (ipykernel)",
      "language": "python",
      "name": "python3"
    },
    "language_info": {
      "codemirror_mode": {
        "name": "ipython",
        "version": 3
      },
      "file_extension": ".py",
      "mimetype": "text/x-python",
      "name": "python",
      "nbconvert_exporter": "python",
      "pygments_lexer": "ipython3",
      "version": "3.10.11"
    }
  },
  "nbformat": 4,
  "nbformat_minor": 0
}